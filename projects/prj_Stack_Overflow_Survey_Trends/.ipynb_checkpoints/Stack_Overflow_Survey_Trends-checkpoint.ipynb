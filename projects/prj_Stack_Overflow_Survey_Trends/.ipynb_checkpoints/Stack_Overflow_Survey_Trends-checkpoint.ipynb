{
 "cells": [
  {
   "cell_type": "markdown",
   "id": "044b5789",
   "metadata": {},
   "source": [
    "# Goal\n",
    "### Analyze survey responses to educate a hypothetical client about their potential hiring market for developers."
   ]
  },
  {
   "cell_type": "markdown",
   "id": "bb5a78aa",
   "metadata": {},
   "source": [
    "## Load in and observe data"
   ]
  },
  {
   "cell_type": "code",
   "execution_count": 6,
   "id": "7a61103f",
   "metadata": {},
   "outputs": [
    {
     "name": "stderr",
     "output_type": "stream",
     "text": [
      "C:\\Users\\warre\\anaconda3\\lib\\site-packages\\IPython\\core\\interactiveshell.py:3165: DtypeWarning: Columns (18,19,20) have mixed types.Specify dtype option on import or set low_memory=False.\n",
      "  has_raised = await self.run_ast_nodes(code_ast.body, cell_name,\n"
     ]
    },
    {
     "name": "stdout",
     "output_type": "stream",
     "text": [
      "Index(['RespondentID', 'Year', 'Country', 'Employment', 'UndergradMajor',\n",
      "       'DevType', 'LanguageWorkedWith', 'LanguageDesireNextYear',\n",
      "       'DatabaseWorkedWith', 'DatabaseDesireNextYear', 'PlatformWorkedWith',\n",
      "       'PlatformDesireNextYear', 'Hobbyist', 'OrgSize', 'YearsCodePro',\n",
      "       'JobSeek', 'ConvertedComp', 'WorkWeekHrs', 'NEWJobHunt',\n",
      "       'NEWJobHuntResearch', 'NEWLearn'],\n",
      "      dtype='object')\n",
      "<bound method DataFrame.count of         RespondentID  Year        Country  \\\n",
      "0                  1  2018  United States   \n",
      "1                  1  2019  United States   \n",
      "2                  1  2020  United States   \n",
      "3                  2  2018  United States   \n",
      "4                  2  2019  United States   \n",
      "...              ...   ...            ...   \n",
      "111204         42853  2018          Japan   \n",
      "111205         42854  2018          Japan   \n",
      "111206         42855  2018          Japan   \n",
      "111207         42856  2018          Japan   \n",
      "111208         42857  2018          Japan   \n",
      "\n",
      "                                               Employment  \\\n",
      "0                                      Employed full-time   \n",
      "1                                      Employed full-time   \n",
      "2                                      Employed full-time   \n",
      "3                                      Employed full-time   \n",
      "4                                      Employed full-time   \n",
      "...                                                   ...   \n",
      "111204                                 Employed full-time   \n",
      "111205                                 Employed full-time   \n",
      "111206                                 Employed full-time   \n",
      "111207  Independent contractor, freelancer, or self-em...   \n",
      "111208                                                NaN   \n",
      "\n",
      "                                           UndergradMajor  \\\n",
      "0       Computer science, computer engineering, or sof...   \n",
      "1       Computer science, computer engineering, or sof...   \n",
      "2       Computer science, computer engineering, or sof...   \n",
      "3       Computer science, computer engineering, or sof...   \n",
      "4       Computer science, computer engineering, or sof...   \n",
      "...                                                   ...   \n",
      "111204                                                NaN   \n",
      "111205                                                NaN   \n",
      "111206                                                NaN   \n",
      "111207                                                NaN   \n",
      "111208                                                NaN   \n",
      "\n",
      "                                                  DevType  \\\n",
      "0                Engineering manager;Full-stack developer   \n",
      "1                                   Developer, full-stack   \n",
      "2                                                     NaN   \n",
      "3                                    Full-stack developer   \n",
      "4       Data or business analyst;Database administrato...   \n",
      "...                                                   ...   \n",
      "111204                                                NaN   \n",
      "111205                                                NaN   \n",
      "111206                                                NaN   \n",
      "111207                                                NaN   \n",
      "111208                                                NaN   \n",
      "\n",
      "                                       LanguageWorkedWith  \\\n",
      "0                                                     NaN   \n",
      "1                                     C;C++;C#;Python;SQL   \n",
      "2                                       HTML/CSS;Ruby;SQL   \n",
      "3        C#;JavaScript;SQL;TypeScript;HTML;CSS;Bash/Shell   \n",
      "4       Bash/Shell/PowerShell;HTML/CSS;JavaScript;PHP;...   \n",
      "...                                                   ...   \n",
      "111204                                                NaN   \n",
      "111205                                                NaN   \n",
      "111206                                                NaN   \n",
      "111207                                                NaN   \n",
      "111208                                                NaN   \n",
      "\n",
      "                                   LanguageDesireNextYear  \\\n",
      "0                                                     NaN   \n",
      "1                                     C;C#;JavaScript;SQL   \n",
      "2                                         Java;Ruby;Scala   \n",
      "3        C#;JavaScript;SQL;TypeScript;HTML;CSS;Bash/Shell   \n",
      "4       Bash/Shell/PowerShell;HTML/CSS;JavaScript;Rust...   \n",
      "...                                                   ...   \n",
      "111204                                                NaN   \n",
      "111205                                                NaN   \n",
      "111206                                                NaN   \n",
      "111207                                                NaN   \n",
      "111208                                                NaN   \n",
      "\n",
      "                                       DatabaseWorkedWith  \\\n",
      "0                                                     NaN   \n",
      "1                                            MySQL;SQLite   \n",
      "2                           MySQL;PostgreSQL;Redis;SQLite   \n",
      "3       SQL Server;Microsoft Azure (Tables, CosmosDB, ...   \n",
      "4                       Couchbase;DynamoDB;Firebase;MySQL   \n",
      "...                                                   ...   \n",
      "111204                                                NaN   \n",
      "111205                                                NaN   \n",
      "111206                                                NaN   \n",
      "111207                                                NaN   \n",
      "111208                                                NaN   \n",
      "\n",
      "                                   DatabaseDesireNextYear  ...  \\\n",
      "0                                                     NaN  ...   \n",
      "1                                            MySQL;SQLite  ...   \n",
      "2                                        MySQL;PostgreSQL  ...   \n",
      "3       SQL Server;Microsoft Azure (Tables, CosmosDB, ...  ...   \n",
      "4                                    Firebase;MySQL;Redis  ...   \n",
      "...                                                   ...  ...   \n",
      "111204                                                NaN  ...   \n",
      "111205                                                NaN  ...   \n",
      "111206                                                NaN  ...   \n",
      "111207                                                NaN  ...   \n",
      "111208                                                NaN  ...   \n",
      "\n",
      "                                   PlatformDesireNextYear Hobbyist  \\\n",
      "0                                                     NaN      NaN   \n",
      "1                                           Linux;Windows       No   \n",
      "2       Docker;Google Cloud Platform;Heroku;Linux;Windows      Yes   \n",
      "3                                                   Azure      NaN   \n",
      "4       Android;AWS;Docker;IBM Cloud or Watson;Linux;S...      Yes   \n",
      "...                                                   ...      ...   \n",
      "111204                                                NaN      NaN   \n",
      "111205                                                NaN      NaN   \n",
      "111206                                                NaN      NaN   \n",
      "111207                                                NaN      NaN   \n",
      "111208                                                NaN      NaN   \n",
      "\n",
      "                     OrgSize YearsCodePro  \\\n",
      "0                        NaN          NaN   \n",
      "1       100 to 499 employees          1.0   \n",
      "2                        NaN          8.0   \n",
      "3                        NaN          4.0   \n",
      "4         10 to 19 employees          8.0   \n",
      "...                      ...          ...   \n",
      "111204                   NaN          NaN   \n",
      "111205                   NaN         13.0   \n",
      "111206                   NaN         11.0   \n",
      "111207                   NaN          NaN   \n",
      "111208                   NaN          NaN   \n",
      "\n",
      "                                             JobSeek ConvertedComp  \\\n",
      "0                                                NaN      141000.0   \n",
      "1       I am not interested in new job opportunities       61000.0   \n",
      "2                                                NaN           NaN   \n",
      "3                                                NaN       48000.0   \n",
      "4       I am not interested in new job opportunities       90000.0   \n",
      "...                                              ...           ...   \n",
      "111204                                           NaN           NaN   \n",
      "111205                                           NaN       98000.0   \n",
      "111206                                           NaN           NaN   \n",
      "111207                                           NaN       35000.0   \n",
      "111208                                           NaN       45000.0   \n",
      "\n",
      "        WorkWeekHrs  NEWJobHunt NEWJobHuntResearch     NEWLearn  \n",
      "0               NaN         NaN                NaN          NaN  \n",
      "1              80.0         NaN                NaN          NaN  \n",
      "2               NaN         NaN                NaN  Once a year  \n",
      "3               NaN         NaN                NaN          NaN  \n",
      "4              40.0         NaN                NaN          NaN  \n",
      "...             ...         ...                ...          ...  \n",
      "111204          NaN         NaN                NaN          NaN  \n",
      "111205          NaN         NaN                NaN          NaN  \n",
      "111206          NaN         NaN                NaN          NaN  \n",
      "111207          NaN         NaN                NaN          NaN  \n",
      "111208          NaN         NaN                NaN          NaN  \n",
      "\n",
      "[111209 rows x 21 columns]>\n"
     ]
    },
    {
     "name": "stdout",
     "output_type": "stream",
     "text": [
      "         RespondentID           Year        Country          Employment  \\\n",
      "count   111209.000000  111209.000000         111209              109425   \n",
      "unique            NaN            NaN              9                   7   \n",
      "top               NaN            NaN  United States  Employed full-time   \n",
      "freq              NaN            NaN          53727               84707   \n",
      "mean     19262.039709    2018.854832            NaN                 NaN   \n",
      "std      11767.011322       0.777503            NaN                 NaN   \n",
      "min          1.000000    2018.000000            NaN                 NaN   \n",
      "25%       9268.000000    2018.000000            NaN                 NaN   \n",
      "50%      18535.000000    2019.000000            NaN                 NaN   \n",
      "75%      28347.000000    2019.000000            NaN                 NaN   \n",
      "max      42857.000000    2020.000000            NaN                 NaN   \n",
      "\n",
      "                                           UndergradMajor  \\\n",
      "count                                               98453   \n",
      "unique                                                 19   \n",
      "top     Computer science, computer engineering, or sof...   \n",
      "freq                                                60852   \n",
      "mean                                                  NaN   \n",
      "std                                                   NaN   \n",
      "min                                                   NaN   \n",
      "25%                                                   NaN   \n",
      "50%                                                   NaN   \n",
      "75%                                                   NaN   \n",
      "max                                                   NaN   \n",
      "\n",
      "                      DevType          LanguageWorkedWith  \\\n",
      "count                  100433                      102018   \n",
      "unique                  15627                       33037   \n",
      "top     Developer, full-stack  C#;HTML/CSS;JavaScript;SQL   \n",
      "freq                     6814                        1071   \n",
      "mean                      NaN                         NaN   \n",
      "std                       NaN                         NaN   \n",
      "min                       NaN                         NaN   \n",
      "25%                       NaN                         NaN   \n",
      "50%                       NaN                         NaN   \n",
      "75%                       NaN                         NaN   \n",
      "max                       NaN                         NaN   \n",
      "\n",
      "       LanguageDesireNextYear DatabaseWorkedWith DatabaseDesireNextYear  ...  \\\n",
      "count                   96044              85859                  74234  ...   \n",
      "unique                  36490               7936                   8558  ...   \n",
      "top                    Python              MySQL             PostgreSQL  ...   \n",
      "freq                     1263               5850                   4474  ...   \n",
      "mean                      NaN                NaN                    NaN  ...   \n",
      "std                       NaN                NaN                    NaN  ...   \n",
      "min                       NaN                NaN                    NaN  ...   \n",
      "25%                       NaN                NaN                    NaN  ...   \n",
      "50%                       NaN                NaN                    NaN  ...   \n",
      "75%                       NaN                NaN                    NaN  ...   \n",
      "max                       NaN                NaN                    NaN  ...   \n",
      "\n",
      "       PlatformDesireNextYear Hobbyist             OrgSize  YearsCodePro  \\\n",
      "count                   85376    68352               54804  94793.000000   \n",
      "unique                  16024        2                  10           NaN   \n",
      "top                     Linux      Yes  20 to 99 employees           NaN   \n",
      "freq                     4343    54733               10516           NaN   \n",
      "mean                      NaN      NaN                 NaN      9.547045   \n",
      "std                       NaN      NaN                 NaN      7.548931   \n",
      "min                       NaN      NaN                 NaN      0.000000   \n",
      "25%                       NaN      NaN                 NaN      4.000000   \n",
      "50%                       NaN      NaN                 NaN      8.000000   \n",
      "75%                       NaN      NaN                 NaN     14.000000   \n",
      "max                       NaN      NaN                 NaN     50.000000   \n",
      "\n",
      "                                                  JobSeek ConvertedComp  \\\n",
      "count                                               60556  9.133300e+04   \n",
      "unique                                                  3           NaN   \n",
      "top     I’m not actively looking, but I am open to new...           NaN   \n",
      "freq                                                33943           NaN   \n",
      "mean                                                  NaN  1.251777e+05   \n",
      "std                                                   NaN  2.461218e+05   \n",
      "min                                                   NaN  0.000000e+00   \n",
      "25%                                                   NaN  4.600000e+04   \n",
      "50%                                                   NaN  7.900000e+04   \n",
      "75%                                                   NaN  1.200000e+05   \n",
      "max                                                   NaN  2.000000e+06   \n",
      "\n",
      "         WorkWeekHrs                                         NEWJobHunt  \\\n",
      "count   51089.000000                                              19127   \n",
      "unique           NaN                                               1751   \n",
      "top              NaN  Curious about other opportunities;Better compe...   \n",
      "freq             NaN                                                548   \n",
      "mean       41.051670                                                NaN   \n",
      "std        13.833929                                                NaN   \n",
      "min         1.000000                                                NaN   \n",
      "25%        40.000000                                                NaN   \n",
      "50%        40.000000                                                NaN   \n",
      "75%        42.000000                                                NaN   \n",
      "max       475.000000                                                NaN   \n",
      "\n",
      "                                       NEWJobHuntResearch     NEWLearn  \n",
      "count                                               18683        24226  \n",
      "unique                                                 63            4  \n",
      "top     Read company media, such as employee blogs or ...  Once a year  \n",
      "freq                                                 1319         9312  \n",
      "mean                                                  NaN          NaN  \n",
      "std                                                   NaN          NaN  \n",
      "min                                                   NaN          NaN  \n",
      "25%                                                   NaN          NaN  \n",
      "50%                                                   NaN          NaN  \n",
      "75%                                                   NaN          NaN  \n",
      "max                                                   NaN          NaN  \n",
      "\n",
      "[11 rows x 21 columns]\n"
     ]
    }
   ],
   "source": [
    "import pandas as pd\n",
    "\n",
    "df = pd.read_csv(\"developer_dataset.csv\")\n",
    "print(df.columns)\n",
    "print(df.count)\n",
    "print(df.describe(include='all'))"
   ]
  },
  {
   "cell_type": "markdown",
   "id": "a6ebe716",
   "metadata": {},
   "source": [
    "Several rows have significant amounts of missing data. I'll remove any variables that have more than 60% of their entries missing."
   ]
  },
  {
   "cell_type": "code",
   "execution_count": 9,
   "id": "c4256ba2",
   "metadata": {},
   "outputs": [
    {
     "name": "stdout",
     "output_type": "stream",
     "text": [
      "% missing data\n",
      "RespondentID               0.000000\n",
      "Year                       0.000000\n",
      "Country                    0.000000\n",
      "Employment                 1.604187\n",
      "UndergradMajor            11.470295\n",
      "DevType                    9.689863\n",
      "LanguageWorkedWith         8.264619\n",
      "LanguageDesireNextYear    13.636486\n",
      "DatabaseWorkedWith        22.794918\n",
      "DatabaseDesireNextYear    33.248208\n",
      "PlatformWorkedWith        17.624473\n",
      "PlatformDesireNextYear    23.229235\n",
      "Hobbyist                  38.537349\n",
      "OrgSize                   50.719816\n",
      "YearsCodePro              14.761395\n",
      "JobSeek                   45.547573\n",
      "ConvertedComp             17.872654\n",
      "WorkWeekHrs               54.060373\n",
      "NEWJobHunt                82.800852\n",
      "NEWJobHuntResearch        83.200101\n",
      "NEWLearn                  78.215792\n",
      "dtype: float64\n"
     ]
    }
   ],
   "source": [
    "maxRows = df.Year.count()\n",
    "print('% missing data')\n",
    "print((1-df.count()/maxRows) * 100)"
   ]
  },
  {
   "cell_type": "markdown",
   "id": "c82cb2e9",
   "metadata": {},
   "source": [
    "Thus, we will drop NEWJobHunt, NEWJobHuntResearch, and NEWLearn"
   ]
  },
  {
   "cell_type": "code",
   "execution_count": 11,
   "id": "0cdf0a01",
   "metadata": {},
   "outputs": [],
   "source": [
    "df.drop(['NEWJobHunt', 'NEWJobHuntResearch', 'NEWLearn'], axis=1, inplace=True)"
   ]
  },
  {
   "cell_type": "markdown",
   "id": "4e15ea6f",
   "metadata": {},
   "source": [
    "## Analyze developers by country"
   ]
  },
  {
   "cell_type": "raw",
   "id": "f330483d",
   "metadata": {},
   "source": [
    "Employment and Dev type columns have (less than 10%) missing data that will need to be addressed to move forward with analysis. I'll check to see where the data is missing in each field.\n"
   ]
  },
  {
   "cell_type": "code",
   "execution_count": 14,
   "id": "10ff5158",
   "metadata": {},
   "outputs": [
    {
     "data": {
      "image/png": "[encoded data removed]",
      "text/plain": [
       "<Figure size 864x432 with 1 Axes>"
      ]
     },
     "metadata": {
      "needs_background": "light"
     },
     "output_type": "display_data"
    },
    {
     "data": {
      "image/png": "[encoded data removed]",
      "text/plain": [
       "<Figure size 864x432 with 1 Axes>"
      ]
     },
     "metadata": {
      "needs_background": "light"
     },
     "output_type": "display_data"
    }
   ],
   "source": [
    "import seaborn as sns\n",
    "import matplotlib.pyplot as plt\n",
    " \n",
    "df[['RespondentID','Country']].groupby('Country').count()\n",
    " \n",
    "missingData = df[['Employment','DevType']].isnull().groupby(df['Country']).sum().reset_index()\n",
    " \n",
    "A=sns.catplot(\n",
    "    data=missingData, kind=\"bar\",\n",
    "    x=\"Country\", y=\"Employment\",\n",
    "    height = 6, aspect = 2)\n",
    "B=sns.catplot(\n",
    "    data=missingData, kind=\"bar\",\n",
    "    x=\"Country\", y=\"DevType\",\n",
    "    height = 6, aspect = 2)"
   ]
  },
  {
   "cell_type": "markdown",
   "id": "5282b602",
   "metadata": {},
   "source": [
    "The data doesn't appear to be missing for any country significantly more than any other. In fact, there is more missing data in the US because there are more respondents proportionally. We can classify this data as MCAR and can move forward with pairwise deletion."
   ]
  },
  {
   "cell_type": "code",
   "execution_count": 15,
   "id": "3eefb0ee",
   "metadata": {},
   "outputs": [],
   "source": [
    "df.dropna(subset=['DevType', 'Employment'], how='any', inplace=True)"
   ]
  },
  {
   "cell_type": "markdown",
   "id": "6f788e26",
   "metadata": {},
   "source": [
    "Now I can analyze the distribution of employment and developer types by country. We'll focus on the following key roles:\n",
    "* Front-end\n",
    "* Back-end\n",
    "* Full-stack\n",
    "* Mobile Development\n",
    "* Administrative Roles"
   ]
  },
  {
   "cell_type": "code",
   "execution_count": 16,
   "id": "051dc69f",
   "metadata": {},
   "outputs": [
    {
     "name": "stderr",
     "output_type": "stream",
     "text": [
      "C:\\Users\\warre\\anaconda3\\lib\\site-packages\\pandas\\core\\indexing.py:1599: SettingWithCopyWarning: \n",
      "A value is trying to be set on a copy of a slice from a DataFrame.\n",
      "Try using .loc[row_indexer,col_indexer] = value instead\n",
      "\n",
      "See the caveats in the documentation: https://pandas.pydata.org/pandas-docs/stable/user_guide/indexing.html#returning-a-view-versus-a-copy\n",
      "  self.obj[key] = infer_fill_value(value)\n",
      "C:\\Users\\warre\\anaconda3\\lib\\site-packages\\pandas\\core\\indexing.py:1720: SettingWithCopyWarning: \n",
      "A value is trying to be set on a copy of a slice from a DataFrame.\n",
      "Try using .loc[row_indexer,col_indexer] = value instead\n",
      "\n",
      "See the caveats in the documentation: https://pandas.pydata.org/pandas-docs/stable/user_guide/indexing.html#returning-a-view-versus-a-copy\n",
      "  self._setitem_single_column(loc, value, pi)\n"
     ]
    },
    {
     "data": {
      "image/png": "[encoded data removed]",
      "text/plain": [
       "<Figure size 3888x432 with 6 Axes>"
      ]
     },
     "metadata": {
      "needs_background": "light"
     },
     "output_type": "display_data"
    },
    {
     "data": {
      "image/png": "[encoded data removed]",
      "text/plain": [
       "<Figure size 3240x432 with 5 Axes>"
      ]
     },
     "metadata": {
      "needs_background": "light"
     },
     "output_type": "display_data"
    }
   ],
   "source": [
    "empfig = sns.catplot(x=\"Country\", col=\"Employment\",\n",
    "                data=df, kind=\"count\",\n",
    "                height=6, aspect=1.5);\n",
    " \n",
    "# Focus on a few of the key developer types outlined in the Stack Overflow survey\n",
    "devdf = df[['Country','DevType']]\n",
    "devdf.loc[devdf['DevType'].str.contains('back-end'), 'BackEnd'] = True\n",
    "devdf.loc[devdf['DevType'].str.contains('front-end'), 'FrontEnd'] = True\n",
    "devdf.loc[devdf['DevType'].str.contains('full-stack'), 'FullStack'] = True\n",
    "devdf.loc[devdf['DevType'].str.contains('mobile'), 'Mobile'] = True\n",
    "devdf.loc[devdf['DevType'].str.contains('administrator'), 'Admin'] = True\n",
    " \n",
    "devdf = devdf.melt(id_vars=['Country'], \n",
    "    value_vars=['BackEnd','FrontEnd','FullStack','Mobile','Admin'], \n",
    "    var_name='DevCat',\n",
    "    value_name='DevFlag')\n",
    " \n",
    "devdf.dropna(how='any', inplace=True)\n",
    " \n",
    "devFig = sns.catplot(x=\"Country\", col=\"DevCat\",\n",
    "                data=devdf, kind=\"count\",\n",
    "                height=6, aspect=1.5);"
   ]
  },
  {
   "cell_type": "markdown",
   "id": "7ba4765c",
   "metadata": {},
   "source": [
    "The majority of respondents are employed full time. The majority also have skills in front-end, back-end, and full-stack development, showing that the market favors developers who can excel in most, if not all of, the development lifecycle."
   ]
  },
  {
   "cell_type": "markdown",
   "id": "500243f8",
   "metadata": {},
   "source": [
    "## Investigate developer undergraduate majors"
   ]
  },
  {
   "cell_type": "markdown",
   "id": "e46bafcc",
   "metadata": {},
   "source": [
    "About 11% of data is missing for majors. I'll look at distribution of majors over each year."
   ]
  },
  {
   "cell_type": "code",
   "execution_count": 17,
   "id": "87b53e3f",
   "metadata": {},
   "outputs": [
    {
     "data": {
      "image/png": "[encoded data removed]",
      "text/plain": [
       "<Figure size 288x288 with 1 Axes>"
      ]
     },
     "metadata": {
      "needs_background": "light"
     },
     "output_type": "display_data"
    }
   ],
   "source": [
    "missingUndergrad = df['UndergradMajor'].isnull().groupby(df['Year']).sum().reset_index()\n",
    " \n",
    "sns.catplot(x=\"Year\", y=\"UndergradMajor\",\n",
    "                data=missingUndergrad, kind=\"bar\",\n",
    "                height=4, aspect=1);"
   ]
  },
  {
   "cell_type": "code",
   "execution_count": null,
   "id": "ce902fbc",
   "metadata": {},
   "outputs": [],
   "source": []
  }
 ],
 "metadata": {
  "kernelspec": {
   "display_name": "Python 3",
   "language": "python",
   "name": "python3"
  },
  "language_info": {
   "codemirror_mode": {
    "name": "ipython",
    "version": 3
   },
   "file_extension": ".py",
   "mimetype": "text/x-python",
   "name": "python",
   "nbconvert_exporter": "python",
   "pygments_lexer": "ipython3",
   "version": "3.8.8"
  }
 },
 "nbformat": 4,
 "nbformat_minor": 5
}
