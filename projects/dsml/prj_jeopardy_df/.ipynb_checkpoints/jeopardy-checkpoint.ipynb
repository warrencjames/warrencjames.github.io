{
 "cells": [
  {
   "cell_type": "code",
   "execution_count": 14,
   "id": "9596278d",
   "metadata": {},
   "outputs": [],
   "source": [
    "import pandas as pd\n",
    "import random\n",
    "jeopardy = pd.read_csv('jeopardy.csv')\n",
    "#print(jeopardy)\n",
    "jeopardy.rename(columns={\n",
    "    'Show Number': 'show_number',\n",
    "    ' Air Date': 'air_date',\n",
    "    ' Round' : 'round',\n",
    "    ' Category' : 'category',\n",
    "    ' Value': 'value',\n",
    "    ' Question': 'question',\n",
    "    ' Answer': 'answer'\n",
    "}, inplace=True)\n"
   ]
  },
  {
   "cell_type": "code",
   "execution_count": 15,
   "id": "d0fa92ef",
   "metadata": {},
   "outputs": [],
   "source": [
    "def word_filter(data, words):\n",
    "    filter = lambda x: all(word.lower() in x.lower() for word in words)\n",
    "    return data.loc[data['question'].apply(filter)]\n",
    "#print(word_filter(jeopardy, ['King', 'England']))"
   ]
  },
  {
   "cell_type": "code",
   "execution_count": 16,
   "id": "ffb7b9e2",
   "metadata": {},
   "outputs": [],
   "source": [
    "def valuefix(data):\n",
    "    return lambda x: float(x[1:].replace(',', '')) if x != 'None' else 0\n",
    "jeopardy['float_value'] = jeopardy['value'].apply(valuefix(jeopardy['value']))"
   ]
  },
  {
   "cell_type": "code",
   "execution_count": 32,
   "id": "9750f5b4",
   "metadata": {},
   "outputs": [],
   "source": [
    "king_questions = word_filter(jeopardy, ' King ')\n"
   ]
  },
  {
   "cell_type": "markdown",
   "id": "468f0266",
   "metadata": {},
   "source": [
    "king_questions is a filtered dataframe object with questions containing the string 'king'."
   ]
  },
  {
   "cell_type": "code",
   "execution_count": 33,
   "id": "62b7cf11",
   "metadata": {},
   "outputs": [
    {
     "name": "stdout",
     "output_type": "stream",
     "text": [
      "The average value for questions with the string \"king\" is:\n",
      "778.0\n"
     ]
    }
   ],
   "source": [
    "print(\"The average value for questions with the string \\\"king\\\" is:\")\n",
    "print(round(king_questions.float_value.mean(), 0))"
   ]
  },
  {
   "cell_type": "code",
   "execution_count": 26,
   "id": "e3cb8043",
   "metadata": {},
   "outputs": [],
   "source": [
    "def unique_count(data):\n",
    "    return data.value_counts()"
   ]
  },
  {
   "cell_type": "code",
   "execution_count": 34,
   "id": "7f94f27f",
   "metadata": {},
   "outputs": [
    {
     "name": "stdout",
     "output_type": "stream",
     "text": [
      "Japan         68\n",
      "Sweden        62\n",
      "Henry VIII    61\n",
      "Australia     55\n",
      "India         55\n",
      "              ..\n",
      "Miltown        1\n",
      "athlete        1\n",
      "crab cakes     1\n",
      "Terrier        1\n",
      "vocabulary     1\n",
      "Name: answer, Length: 37688, dtype: int64\n"
     ]
    }
   ],
   "source": [
    "print(unique_count(king_questions['answer']))"
   ]
  },
  {
   "cell_type": "markdown",
   "id": "580b592d",
   "metadata": {},
   "source": [
    "Japan is the most common answer to questions containing the string \"king\"."
   ]
  }
 ],
 "metadata": {
  "kernelspec": {
   "display_name": "Python 3",
   "language": "python",
   "name": "python3"
  },
  "language_info": {
   "codemirror_mode": {
    "name": "ipython",
    "version": 3
   },
   "file_extension": ".py",
   "mimetype": "text/x-python",
   "name": "python",
   "nbconvert_exporter": "python",
   "pygments_lexer": "ipython3",
   "version": "3.8.8"
  }
 },
 "nbformat": 4,
 "nbformat_minor": 5
}
