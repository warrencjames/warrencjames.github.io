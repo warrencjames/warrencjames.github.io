{
 "cells": [
  {
   "cell_type": "code",
   "execution_count": 14,
   "id": "9596278d",
   "metadata": {},
   "outputs": [],
   "source": [
    "import pandas as pd\n",
    "import random\n",
    "jeopardy = pd.read_csv('jeopardy.csv')\n",
    "#print(jeopardy)\n",
    "jeopardy.rename(columns={\n",
    "    'Show Number': 'show_number',\n",
    "    ' Air Date': 'air_date',\n",
    "    ' Round' : 'round',\n",
    "    ' Category' : 'category',\n",
    "    ' Value': 'value',\n",
    "    ' Question': 'question',\n",
    "    ' Answer': 'answer'\n",
    "}, inplace=True)\n"
   ]
  },
  {
   "cell_type": "code",
   "execution_count": 15,
   "id": "d0fa92ef",
   "metadata": {},
   "outputs": [],
   "source": [
    "def word_filter(data, words):\n",
    "    filter = lambda x: all(word.lower() in x.lower() for word in words)\n",
    "    return data.loc[data['question'].apply(filter)]\n",
    "#print(word_filter(jeopardy, ['King', 'England']))"
   ]
  },
  {
   "cell_type": "code",
   "execution_count": 16,
   "id": "ffb7b9e2",
   "metadata": {},
   "outputs": [],
   "source": [
    "def valuefix(data):\n",
    "    return lambda x: float(x[1:].replace(',', '')) if x != 'None' else 0\n",
    "jeopardy['float_value'] = jeopardy['value'].apply(valuefix(jeopardy['value']))"
   ]
  },
  {
   "cell_type": "code",
   "execution_count": 32,
   "id": "9750f5b4",
   "metadata": {},
   "outputs": [],
   "source": [
    "king_questions = word_filter(jeopardy, ' King ')\n"
   ]
  },
  {
   "cell_type": "markdown",
   "id": "c60c3040",
   "metadata": {},
   "source": [
    "king_questions is a filtered dataframe object with questions containing the string 'king'."
   ]
  },
  {
   "cell_type": "code",
   "execution_count": 33,
   "id": "f99e9450",
   "metadata": {},
   "outputs": [
    {
     "name": "stdout",
     "output_type": "stream",
     "text": [
      "The average value for questions with the string \"king\" is:\n",
      "778.0\n"
     ]
    }
   ],
   "source": [
    "print(\"The average value for questions with the string \\\"king\\\" is:\")\n",
    "print(round(king_questions.float_value.mean(), 0))"
   ]
  },
  {
   "cell_type": "code",
   "execution_count": 26,
   "id": "aada1ac7",
   "metadata": {},
   "outputs": [],
   "source": [
    "def unique_count(data):\n",
    "    return data.value_counts()"
   ]
  },
  {
   "cell_type": "code",
   "execution_count": 34,
   "id": "9289b2eb",
   "metadata": {},
   "outputs": [
    {
     "name": "stdout",
     "output_type": "stream",
     "text": [
      "Japan         68\n",
      "Sweden        62\n",
      "Henry VIII    61\n",
      "Australia     55\n",
      "India         55\n",
      "              ..\n",
      "Miltown        1\n",
      "athlete        1\n",
      "crab cakes     1\n",
      "Terrier        1\n",
      "vocabulary     1\n",
      "Name: answer, Length: 37688, dtype: int64\n"
     ]
    }
   ],
   "source": [
    "print(unique_count(king_questions['answer']))"
   ]
  },
  {
   "cell_type": "markdown",
   "id": "99451ae0",
   "metadata": {},
   "source": [
    "Japan is the most common answer to questions containing the string \"king\"."
   ]
  },
  {
   "cell_type": "code",
   "execution_count": 62,
   "id": "efc15f50",
   "metadata": {},
   "outputs": [
    {
     "name": "stdout",
     "output_type": "stream",
     "text": [
      "        show_number    air_date             round            category   value  \\\n",
      "363            2825  1996-12-06         Jeopardy!    HOMOPHONIC PAIRS    $100   \n",
      "366            2825  1996-12-06         Jeopardy!           MYTHOLOGY    $200   \n",
      "370            2825  1996-12-06         Jeopardy!  AMERICAN EXPLORERS    $300   \n",
      "377            2825  1996-12-06         Jeopardy!   MEASURING DEVICES    $400   \n",
      "379            2825  1996-12-06         Jeopardy!          TELEVISION    $600   \n",
      "...             ...         ...               ...                 ...     ...   \n",
      "216611         2046  1993-06-28  Double Jeopardy!      GEMS & JEWELRY    $600   \n",
      "216617         2046  1993-06-28  Double Jeopardy!      GEMS & JEWELRY    $800   \n",
      "216618         2046  1993-06-28  Double Jeopardy!     BIBLICAL PEOPLE  $1,000   \n",
      "216620         2046  1993-06-28  Double Jeopardy!     WORLD GEOGRAPHY    $800   \n",
      "216621         2046  1993-06-28  Double Jeopardy!      POETS & POETRY    $800   \n",
      "\n",
      "                                                 question  \\\n",
      "363                               A complete donut center   \n",
      "366     Cadmus planted these parts of a dragon to rais...   \n",
      "370     Co-commanders of the 1st U.S. expedition to ex...   \n",
      "377     A spirometer measures the capacity of these or...   \n",
      "379     Character seen <a href=\"http://www.j-archive.c...   \n",
      "...                                                   ...   \n",
      "216611  Popularly worn in brooches, cairngorm is a smo...   \n",
      "216617  The most highly prized color of this September...   \n",
      "216618  This judge's general, Barak, refused to battle...   \n",
      "216620  The capitals of British Columbia, Hong Kong & ...   \n",
      "216621  A poem about him begins, \"Come, all you rounde...   \n",
      "\n",
      "                        answer  float_value  \n",
      "363                 whole hole        100.0  \n",
      "366                      teeth        200.0  \n",
      "370              Lewis & Clark        300.0  \n",
      "377                  the lungs        400.0  \n",
      "379     Hercules (Kevin Sorbo)        600.0  \n",
      "...                        ...          ...  \n",
      "216611                Scotland        600.0  \n",
      "216617                sapphire        800.0  \n",
      "216618                 Deborah       1000.0  \n",
      "216620                Victoria        800.0  \n",
      "216621             Casey Jones        800.0  \n",
      "\n",
      "[24027 rows x 8 columns]\n"
     ]
    }
   ],
   "source": [
    "pre_2000 = jeopardy[jeopardy.air_date < '2000-01-01']\n",
    "post_2000 = jeopardy[jeopardy.air_date >= '2000-01-01']\n",
    "\n",
    "pre_2000_computer = word_filter(pre_2000, 'computer')\n",
    "post_2000_computer = word_filter(post_2000, 'computer')\n",
    "\n",
    "#print(unique_count(pre_2000_computer['answer']))\n",
    "#print(unique_count(post_2000_computer['answer']))\n",
    "print(pre_2000_computer)"
   ]
  }
 ],
 "metadata": {
  "kernelspec": {
   "display_name": "Python 3",
   "language": "python",
   "name": "python3"
  },
  "language_info": {
   "codemirror_mode": {
    "name": "ipython",
    "version": 3
   },
   "file_extension": ".py",
   "mimetype": "text/x-python",
   "name": "python",
   "nbconvert_exporter": "python",
   "pygments_lexer": "ipython3",
   "version": "3.8.8"
  }
 },
 "nbformat": 4,
 "nbformat_minor": 5
}
