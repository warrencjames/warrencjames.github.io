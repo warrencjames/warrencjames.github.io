{
 "cells": [
  {
   "cell_type": "markdown",
   "metadata": {},
   "source": [
    "# TITLE"
   ]
  },
  {
   "cell_type": "markdown",
   "metadata": {},
   "source": [
    "## Project Goals"
   ]
  },
  {
   "cell_type": "markdown",
   "metadata": {},
   "source": [
    "The primary goal of this project is to examine data from the National Parks Service to analyze potential trends of species that become endangered. Some questions of interest include:\n",
    "* Is there a pattern to the types of species that become endangered?\n",
    "* Is there a pattern for other conservation statuses?"
   ]
  },
  {
   "cell_type": "markdown",
   "metadata": {},
   "source": [
    "## Import Necessary Modules"
   ]
  },
  {
   "cell_type": "code",
   "execution_count": 4,
   "metadata": {},
   "outputs": [],
   "source": [
    "import pandas as pd\n",
    "import numpy as np\n",
    "from matplotlib import pyplot as plt\n",
    "import seaborn as sns"
   ]
  },
  {
   "cell_type": "markdown",
   "metadata": {},
   "source": [
    "## Load and Examine CSV Data"
   ]
  },
  {
   "cell_type": "code",
   "execution_count": 5,
   "metadata": {},
   "outputs": [
    {
     "name": "stdout",
     "output_type": "stream",
     "text": [
      "            scientific_name                            park_name  observations\n",
      "0        Vicia benghalensis  Great Smoky Mountains National Park            68\n",
      "1            Neovison vison  Great Smoky Mountains National Park            77\n",
      "2         Prunus subcordata               Yosemite National Park           138\n",
      "3      Abutilon theophrasti                  Bryce National Park            84\n",
      "4  Githopsis specularioides  Great Smoky Mountains National Park            85\n",
      "---\n",
      "  category                scientific_name  \\\n",
      "0   Mammal  Clethrionomys gapperi gapperi   \n",
      "1   Mammal                      Bos bison   \n",
      "2   Mammal                     Bos taurus   \n",
      "3   Mammal                     Ovis aries   \n",
      "4   Mammal                 Cervus elaphus   \n",
      "\n",
      "                                        common_names conservation_status  \n",
      "0                           Gapper's Red-Backed Vole                 NaN  \n",
      "1                              American Bison, Bison                 NaN  \n",
      "2  Aurochs, Aurochs, Domestic Cattle (Feral), Dom...                 NaN  \n",
      "3  Domestic Sheep, Mouflon, Red Sheep, Sheep (Feral)                 NaN  \n",
      "4                                      Wapiti Or Elk                 NaN  \n"
     ]
    }
   ],
   "source": [
    "observations = pd.read_csv(\"observations.csv\")\n",
    "species_info = pd.read_csv(\"species_info.csv\")\n",
    "\n",
    "print(observations.head())\n",
    "print('---')\n",
    "print(species_info.head())"
   ]
  },
  {
   "cell_type": "markdown",
   "metadata": {},
   "source": [
    "These first few rows give us a good idea of what the data looks like at a glance."
   ]
  },
  {
   "cell_type": "code",
   "execution_count": 4,

   "metadata": {},
   "outputs": [
    {
     "name": "stdout",
     "output_type": "stream",
     "text": [
      "---\n",
      "              category scientific_name   common_names conservation_status\n",
      "count             5824            5824           5824                 191\n",
      "unique               7            5541           5504                   4\n",
      "top     Vascular Plant     Canis lupus  Dicranum Moss  Species of Concern\n",
      "freq              4470               3              7                 161\n",
      "category               object\n",
      "scientific_name        object\n",
      "common_names           object\n",
      "conservation_status    object\n",
      "dtype: object\n",
      "Index(['category', 'scientific_name', 'common_names', 'conservation_status'], dtype='object')\n",
      "['Mammal' 'Bird' 'Reptile' 'Amphibian' 'Fish' 'Vascular Plant'\n",
      " 'Nonvascular Plant']\n",
      "Species of Concern    161\n",
      "Endangered             16\n",
      "Threatened             10\n",
      "In Recovery             4\n",
      "Name: conservation_status, dtype: int64\n"
     ]
    }
   ],
   "source": [
    "#print(observations.describe())\n",
    "#print(observations.dtypes)\n",
    "#print(observations.columns)\n",
    "print('---')\n",
    "#print(species_info.describe())\n",
    "print(species_info.dtypes)\n",
    "print(species_info.columns)\n",
    "print(pd.unique(species_info.category))\n",
    "print(species_info.conservation_status.value_counts())"
   ]
  },
  {
   "cell_type": "markdown",
   "metadata": {},
   "source": [
    "The \"Observations\" table contains cientific names for each species, the name of the park, and how many total observations occur. The \"Species Info\" table contains the scientific name for each species, their categories, their common names and their conservation status.\n",
    "\n",
    "This shows that 191 entries in the species info dataset have any entry at all in the \"conservation status\" column. Of these, 161 are marked as \"Species of Concern.\"\n",
    "\n",
    "We'll start our analysis by analyzing any trends that may exist between species category and conservation status. Then we'll take a look at the number of observations listed for endangered species."
   ]
  },
  {
   "cell_type": "markdown",
   "metadata": {},
   "source": [
    "## Visualize Data"
   ]
  },
  {
   "cell_type": "code",
   "execution_count": 15,
   "metadata": {},
   "outputs": [
    {
     "data": {
      "image/png": "[encoded data removed]",
      "text/plain": [
       "<Figure size 486.5x360 with 1 Axes>"
      ]
     },
     "metadata": {
      "needs_background": "light"
     },
     "output_type": "display_data"
    }
   ],
   "source": [
    "ax = sns.catplot(data=species_info, x=\"conservation_status\", kind='count', hue='category')"
   ]
  },
  {
   "cell_type": "markdown",
   "metadata": {},
   "source": [
    "This visual shows that many mammals, birds, and vascular plants are categorized as \"species of concern.\" Not much data exists for the other categories. However, we do see more mammals and birds listed as \"endangered\" than other categories.\n",
    "\n",
    "We'll now create a dataframe including only species listed as \"endangered\" and compare these species to their observation count listed in the observations table."
   ]
  },
  {
   "cell_type": "code",
   "execution_count": 30,
   "metadata": {},
   "outputs": [
    {
     "name": "stdout",
     "output_type": "stream",
     "text": [
      "   category               scientific_name  \\\n",
      "8    Mammal                   Canis lupus   \n",
      "9    Mammal                   Canis rufus   \n",
      "34   Mammal             Myotis grisescens   \n",
      "39   Mammal                Myotis sodalis   \n",
      "72   Mammal  Glaucomys sabrinus coloratus   \n",
      "\n",
      "                                         common_names conservation_status  \\\n",
      "8                                           Gray Wolf          Endangered   \n",
      "9                                            Red Wolf          Endangered   \n",
      "34                                        Gray Myotis          Endangered   \n",
      "39              Indiana Bat, Indiana Or Social Myotis          Endangered   \n",
      "72  Carolina Northern Flying Squirrel, Northern Fl...          Endangered   \n",
      "\n",
      "   park_name  observations  \n",
      "8        NaN           NaN  \n",
      "9        NaN           NaN  \n",
      "34       NaN           NaN  \n",
      "39       NaN           NaN  \n",
      "72       NaN           NaN  \n",
      "<class 'pandas.core.frame.DataFrame'>\n",
      "Int64Index: 16 entries, 8 to 4601\n",
      "Data columns (total 6 columns):\n",
      " #   Column               Non-Null Count  Dtype  \n",
      "---  ------               --------------  -----  \n",
      " 0   category             16 non-null     object \n",
      " 1   scientific_name      16 non-null     object \n",
      " 2   common_names         16 non-null     object \n",
      " 3   conservation_status  16 non-null     object \n",
      " 4   park_name            0 non-null      object \n",
      " 5   observations         0 non-null      float64\n",
      "dtypes: float64(1), object(5)\n",
      "memory usage: 896.0+ bytes\n",
      "None\n"
     ]
    }
   ],
   "source": [
    "species_info_endangered = species_info[species_info.conservation_status == \"Endangered\"]\n",
    "observations_endangered = pd.concat([species_info_endangered, observations])\n",
    "observations_endangered = observations_endangered[observations_endangered.conservation_status.notna()]\n",
    "print(observations_endangered.head())\n",
    "print(observations_endangered.info())\n"
   ]
  },
  {
   "cell_type": "markdown",
   "metadata": {},
   "source": [
    "There seems to be no overlap between the tables as far as species and observations for species listed as endangered in the species info table."
   ]
  },
  {
   "cell_type": "markdown",
   "metadata": {},
   "source": [
    "# Graphs and Visualization"
   ]
  }
 ],
 "metadata": {
  "kernelspec": {
   "display_name": "Python 3",
   "language": "python",
   "name": "python3"
  },
  "language_info": {
   "codemirror_mode": {
    "name": "ipython",
    "version": 3
   },
   "file_extension": ".py",
   "mimetype": "text/x-python",
   "name": "python",
   "nbconvert_exporter": "python",
   "pygments_lexer": "ipython3",
   "version": "3.8.8"
  }
 },
 "nbformat": 4,
 "nbformat_minor": 4
}
