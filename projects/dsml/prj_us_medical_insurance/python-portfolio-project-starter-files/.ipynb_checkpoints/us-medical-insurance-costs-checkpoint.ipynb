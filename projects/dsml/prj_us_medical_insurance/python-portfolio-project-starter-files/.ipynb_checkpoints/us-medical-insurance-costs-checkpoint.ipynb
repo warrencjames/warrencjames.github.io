{
 "cells": [
  {
   "cell_type": "markdown",
   "metadata": {},
   "source": [
    "# U.S. Medical Insurance Costs"
   ]
  },
  {
   "cell_type": "markdown",
   "metadata": {},
   "source": [
    "# Project Goals\n",
    "* Analyze BMI within each region\n",
    "* Garner insight about how different factors influence the cost of insurance by averaging data.\n",
    "* Use comparative analysis to compare the three most expensive patients and the three cheapest patients\n",
    "\n",
    "## BMI By Region\n",
    "* The four regions represented in the data set are Northwest, Southwest, Northeast, and Southeast\n",
    "* Find the total number of patients for each region. Then find the number of underweight, healthy, overweight, and obese patients within each region. The BMI ranges for each category can be found in the note below.\n",
    "* Finally, break down each region and represent each bmi range as a percent of the total population within each region.\n",
    "    * i.e. Northwest: x% underweight, y% healthy, z% overweight, w% obese; Southwest: (etc)\n",
    "\n",
    "## Data Averaging Analysis\n",
    "* Compare average cost of smokers to average cost of non-smokers\n",
    "* Compare average cost of males to average cost of females\n",
    "* Compare average cost of patients in age ranges of teens, 20s, 30s, etc.\n",
    "* Compare average cost of patients with different numbers of children (0, 1, 2, 3, 4, 5)\n",
    "* Compare average cost of patients in the different BMI ranges (see note below)\n",
    "* Compare average insurance cost by region (SW, SE, NW, NE)\n",
    "\n",
    "## Comparative Analysis\n",
    "* Examine the patients with the three highest and three lowest insurance costs and analyze the factors involved.\n",
    "\n",
    "### Note: \n",
    "\n",
    "According to the CDC, a BMI of less than 18.5 is in the underweight range. A BMI between 18.5 and < 25 is a healthy range, 25 to < 30 is overweight and 30 or higher is obese. These are the ranges for which I will compare average insurance costs and analyze BMI by region. \n",
    "\n"
   ]
  },
  {
   "cell_type": "markdown",
   "metadata": {},
   "source": [
    "# Data Collection"
   ]
  },
  {
   "cell_type": "code",
   "execution_count": 18,
   "metadata": {},
   "outputs": [],
   "source": [
    "import csv\n",
    "dataset = []\n",
    "with open('insurance.csv', newline='') as insurance_csv:\n",
    "    reader = csv.DictReader(insurance_csv)\n",
    "    for row in reader:\n",
    "        dataset.append(row)\n",
    "#dataset is now a group full of dictionaries corresponding to each row in insurance.csv\n",
    "#print(dataset)"
   ]
  },
  {
   "cell_type": "markdown",
   "metadata": {},
   "source": [
    "# BMI By Region"
   ]
  },
  {
   "cell_type": "code",
   "execution_count": 49,
   "metadata": {
    "scrolled": true
   },
   "outputs": [
    {
     "name": "stdout",
     "output_type": "stream",
     "text": [
      "Northwest: 325, Northeast: 324, Southwest: 325, Southeast: 364\n",
      "Northwest: 2.15% underweight, 19.38% healthy, 32.92# overweight, 45.54% obese\n",
      "Northeast: 3.09% underweight, 22.53% healthy, 30.25# overweight, 44.14% obese\n",
      "Southwest: 1.23% underweight, 14.46% healthy, 31.08# overweight, 53.23% obese\n",
      "Southeast: 0.00% underweight, 11.26% healthy, 21.98# overweight, 66.76% obese\n"
     ]
    }
   ],
   "source": [
    "def bmi_category(bmi):\n",
    "    if float(bmi) <= 18.5:\n",
    "        return 'underweight'\n",
    "    elif float(bmi) < 25:\n",
    "        return 'healthy'\n",
    "    elif float(bmi) < 30:\n",
    "        return 'overweight'\n",
    "    else:\n",
    "        return 'obese'\n",
    "def count_cats_group(cats, catname):\n",
    "    un = 0\n",
    "    he = 0\n",
    "    ov = 0\n",
    "    ob = 0\n",
    "    for i in cats:\n",
    "        if i == 'underweight':\n",
    "            un += 1\n",
    "        elif i == 'healthy':\n",
    "            he += 1\n",
    "        elif i == 'overweight':\n",
    "            ov += 1\n",
    "        else:\n",
    "            ob += 1\n",
    "    tot = un+he+ov+ob\n",
    "    print(\"{catname}: {unper:.2f}% underweight, {heper:.2f}% healthy, {ovper:.2f}# overweight, {obper:.2f}% obese\".format(catname=catname, unper=100*un/tot, heper=100*he/tot, ovper=100*ov/tot, obper=100*ob/tot))\n",
    "    \n",
    "nw = 0\n",
    "sw = 0\n",
    "ne = 0\n",
    "se = 0\n",
    "se_cats = []\n",
    "ne_cats = []\n",
    "sw_cats = []\n",
    "nw_cats = []\n",
    "for i in dataset:\n",
    "    if i['region'] == 'southwest':\n",
    "        sw += 1\n",
    "        sw_cats.append(bmi_category(i['bmi']))\n",
    "    elif i['region'] == 'southeast':\n",
    "        se += 1\n",
    "        se_cats.append(bmi_category(i['bmi']))     \n",
    "    elif i['region'] == 'northwest':\n",
    "        nw += 1\n",
    "        nw_cats.append(bmi_category(i['bmi']))\n",
    "    else:\n",
    "        ne += 1\n",
    "        ne_cats.append(bmi_category(i['bmi']))\n",
    "\n",
    "print(\"Northwest: {nw}, Northeast: {ne}, Southwest: {sw}, Southeast: {se}\".format(nw=nw, ne=ne, sw=sw, se=se))\n",
    "#print(nw+sw+ne+se)\n",
    "#should be 1338\n",
    "count_cats_group(nw_cats, \"Northwest\")\n",
    "count_cats_group(ne_cats, \"Northeast\")\n",
    "count_cats_group(sw_cats, \"Southwest\")\n",
    "count_cats_group(se_cats, \"Southeast\")\n"
   ]
  },
  {
   "cell_type": "markdown",
   "metadata": {},
   "source": [
    "This analysis shows that, in this set of data, all regions have a higher obesity percentage than any other category. The southeast region has the highest obesity percentage at 66.76% of the sample population. The northeast is the \"healthiest\" region with a higher healthy percentage than any other region and a lower obese percentage than any other region."
   ]
  },
  {
   "cell_type": "markdown",
   "metadata": {},
   "source": [
    "# Data Averaging Analysis\n"
   ]
  },
  {
   "cell_type": "markdown",
   "metadata": {},
   "source": [
    "## Smokers vs Nonsmokers"
   ]
  },
  {
   "cell_type": "code",
   "execution_count": 111,
   "metadata": {},
   "outputs": [
    {
     "name": "stdout",
     "output_type": "stream",
     "text": [
      "There are 274 smokers in the sample. The average cost for smokers is $32050.23.\n",
      "There are 1064 non-smokers in the sample. The average cost for non-smokers is $8434.27.\n",
      "Patients that smoke pay $23615.96 more on average than patients that don't smoke.\n"
     ]
    }
   ],
   "source": [
    "smokecosts = []\n",
    "nonsmokecosts = []\n",
    "for i in dataset:\n",
    "    if i['smoker'] == 'yes':\n",
    "        smokecosts.append(float(i['charges']))\n",
    "    else:\n",
    "        nonsmokecosts.append(float(i['charges']))\n",
    "averagesmokecost = sum(smokecosts)/len(smokecosts)\n",
    "averagenonsmokecost = sum(nonsmokecosts)/len(nonsmokecosts)\n",
    "print(\"There are {numb} smokers in the sample. The average cost for smokers is ${cost:.2f}.\".format(numb=len(smokecosts), cost=averagesmokecost))\n",
    "print(\"There are {numb} non-smokers in the sample. The average cost for non-smokers is ${cost:.2f}.\".format(numb=len(nonsmokecosts), cost=averagenonsmokecost))\n",
    "print(\"Patients that smoke pay ${diff:.2f} more on average than patients that don't smoke.\".format(diff=averagesmokecost-averagenonsmokecost))"
   ]
  },
  {
   "cell_type": "markdown",
   "metadata": {},
   "source": [
    "## Males vs Females"
   ]
  },
  {
   "cell_type": "code",
   "execution_count": 112,
   "metadata": {},
   "outputs": [
    {
     "name": "stdout",
     "output_type": "stream",
     "text": [
      "There are 676 males in the sample. The average cost for males is $13956.75.\n",
      "There are 662 females in the sample. The average cost for females is $12569.58.\n",
      "Men pay $1387.17 more than women, on average.\n"
     ]
    }
   ],
   "source": [
    "malecosts = []\n",
    "femalecosts = []\n",
    "for i in dataset:\n",
    "    if i['sex'] == 'male':\n",
    "        malecosts.append(float(i['charges']))\n",
    "    else:\n",
    "        femalecosts.append(float(i['charges']))\n",
    "averagemalecost = sum(malecosts) / len(malecosts)\n",
    "averagefemalecost = sum(femalecosts) / len(femalecosts)\n",
    "print(\"There are {n} males in the sample. The average cost for males is ${cost:.2f}.\".format(n=len(malecosts), cost=averagemalecost))\n",
    "print(\"There are {n} females in the sample. The average cost for females is ${cost:.2f}.\".format(n=len(femalecosts), cost=averagefemalecost))\n",
    "print(\"Men pay ${dif:.2f} more than women, on average.\".format(dif = averagemalecost - averagefemalecost))"
   ]
  },
  {
   "cell_type": "markdown",
   "metadata": {},
   "source": [
    "## Different Age Ranges"
   ]
  },
  {
   "cell_type": "code",
   "execution_count": 120,
   "metadata": {},
   "outputs": [
    {
     "name": "stdout",
     "output_type": "stream",
     "text": [
      "There are 137 patients aged 19 or younger. The average cost for this range is $8407.35\n",
      "There are 280 patients aged 20 through 29.  The average cost for this range is $9561.75\n",
      "There are 257 patients aged 30 through 39.  The average cost for this range is $11738.78\n",
      "There are 279 patients aged 40 through 49.  The average cost for this range is $14399.20\n",
      "There are 271 patients aged 50 through 59.  The average cost for this range is $16495.23\n",
      "There are 114 patients aged 60 or older.  The average cost for this range is $21248.02\n",
      "The difference between the oldest range's average and the youngest range's average is $12840.67.\n",
      "It is clear that average cost of insurance increases as age increases.\n"
     ]
    }
   ],
   "source": [
    "#10-19 is the first range with entries\n",
    "#60-70 is the last range with entries\n",
    "list10s = []\n",
    "list20s = []\n",
    "list30s = []\n",
    "list40s = []\n",
    "list50s = []\n",
    "list60s = []\n",
    "for i in dataset:\n",
    "    if int(i['age']) <= 19:\n",
    "        list10s.append(float(i['charges']))\n",
    "    elif int(i['age']) <= 29:\n",
    "        list20s.append(float(i['charges']))\n",
    "    elif int(i['age']) <= 39:\n",
    "        list30s.append(float(i['charges']))\n",
    "    elif int(i['age']) <= 49:\n",
    "        list40s.append(float(i['charges']))\n",
    "    elif int(i['age']) <= 59:\n",
    "        list50s.append(float(i['charges']))\n",
    "    else:\n",
    "            list60s.append(float(i['charges']))\n",
    "avg10s = sum(list10s)/len(list10s)\n",
    "avg20s = sum(list20s)/len(list20s)\n",
    "avg30s = sum(list30s)/len(list30s)\n",
    "avg40s = sum(list40s)/len(list40s)\n",
    "avg50s = sum(list50s)/len(list50s)\n",
    "avg60s = sum(list60s)/len(list60s)\n",
    "print(\"There are {num} patients aged 19 or younger. The average cost for this range is ${cost:.2f}\".format(num = len(list10s), cost = avg10s))\n",
    "print(\"There are {num} patients aged 20 through 29.  The average cost for this range is ${cost:.2f}\".format(num = len(list20s), cost = avg20s))\n",
    "print(\"There are {num} patients aged 30 through 39.  The average cost for this range is ${cost:.2f}\".format(num = len(list30s), cost = avg30s))\n",
    "print(\"There are {num} patients aged 40 through 49.  The average cost for this range is ${cost:.2f}\".format(num = len(list40s), cost = avg40s))\n",
    "print(\"There are {num} patients aged 50 through 59.  The average cost for this range is ${cost:.2f}\".format(num = len(list50s), cost = avg50s))\n",
    "print(\"There are {num} patients aged 60 or older.  The average cost for this range is ${cost:.2f}\".format(num = len(list60s), cost = avg60s))\n",
    "print(\"The difference between the oldest range's average and the youngest range's average is ${:.2f}.\".format(avg60s-avg10s))\n",
    "print(\"It is clear that average cost of insurance increases as age increases.\")\n",
    "\n",
    "#Note: Use more functions next time to better optimize this code.\n",
    "      \n",
    "\n",
    "\n",
    "        "
   ]
  },
  {
   "cell_type": "markdown",
   "metadata": {},
   "source": [
    "## Different Amounts of Children"
   ]
  },
  {
   "cell_type": "code",
   "execution_count": 115,
   "metadata": {},
   "outputs": [
    {
     "name": "stdout",
     "output_type": "stream",
     "text": [
      "There are 574 patients with 0 children. The average cost for this amount is $12365.98\n",
      "There are 324 patients with 1 child. The average cost for this amount is $12731.17\n",
      "There are 240 patients with 2 children. The average cost for this amount is $15073.56\n",
      "There are 157 patients with 3 children. The average cost for this amount is $15355.32\n",
      "There are 25 patients with 4 children. The average cost for this amount is $13850.66\n",
      "There are 18 patients with 5 children. The average cost for this amount is $8786.04\n",
      "The data is unclear about any influence that number of children has on insurance costs.\n"
     ]
    }
   ],
   "source": [
    "children = [x for x in range(6)]\n",
    "child_dict = {}\n",
    "for i in children:\n",
    "    chargegroup = []\n",
    "    for j in dataset:\n",
    "        if int(j['children']) == i:\n",
    "            chargegroup.append(float(j['charges']))\n",
    "    child_dict.update({i: chargegroup})\n",
    "for i in child_dict:\n",
    "    if i==1:\n",
    "        print(\"There are {num} patients with {i} child. The average cost for this amount is ${avg:.2f}\".format(num=len(child_dict[i]), i=i, avg=(sum(child_dict[i])/len(child_dict[i]))))\n",
    "    else:\n",
    "        print(\"There are {num} patients with {i} children. The average cost for this amount is ${avg:.2f}\".format(num=len(child_dict[i]), i=i, avg=(sum(child_dict[i])/len(child_dict[i]))))\n",
    "print(\"The data is unclear about any influence that number of children has on insurance costs.\")\n"
   ]
  },
  {
   "cell_type": "markdown",
   "metadata": {},
   "source": [
    "## BMI Categories"
   ]
  },
  {
   "cell_type": "code",
   "execution_count": 119,
   "metadata": {},
   "outputs": [
    {
     "name": "stdout",
     "output_type": "stream",
     "text": [
      "The underweight patients pay an average of $8657.62 for insurance.\n",
      "The healthy patients pay an average of $10434.53 for insurance.\n",
      "The overweight patients pay an average of $10987.51 for insurance.\n",
      "The obese patients pay an average of $15552.34 for insurance.\n",
      "The difference between the obese range average and healthy range average is $5117.80.\n",
      "The difference between the obese range average and underweight range average is $6894.71.\n",
      "Note: Patients should not be encouraged to force themselves into the underweight category to lower their insurance cost.\n",
      "The data suggests that average cost of insurance increases as BMI increases.\n"
     ]
    }
   ],
   "source": [
    "#bmi_category(bmi) returns classification as a string\n",
    "bmi_dict = {}\n",
    "ungroup = []\n",
    "hegroup = []\n",
    "ovgroup = []\n",
    "obgroup = []\n",
    "for i in dataset:\n",
    "    if bmi_category(float(i['bmi'])) == 'underweight':\n",
    "        ungroup.append(float(i['charges']))\n",
    "    elif bmi_category(float(i['bmi'])) == 'healthy':\n",
    "        hegroup.append(float(i['charges']))\n",
    "    elif bmi_category(float(i['bmi'])) == 'overweight':\n",
    "        ovgroup.append(float(i['charges']))\n",
    "    else:\n",
    "        obgroup.append(float(i['charges']))\n",
    "bmi_dict.update({'underweight': ungroup, 'healthy': hegroup, 'overweight': ovgroup, 'obese': obgroup})\n",
    "#bmi_dict is now a dictionary with classifications as keys and groups of corresponding insurance costs as values\n",
    "for i in bmi_dict:\n",
    "    print(\"The {bmi_class} patients pay an average of ${avg:.2f} for insurance.\".format(bmi_class = i, avg = sum(bmi_dict[i])/len(bmi_dict[i])))\n",
    "diff = (sum(bmi_dict['obese']) / len(bmi_dict['obese'])) - (sum(bmi_dict['healthy']) / len(bmi_dict['healthy']))\n",
    "diff2 = (sum(bmi_dict['obese']) / len(bmi_dict['obese'])) - (sum(bmi_dict['underweight']) / len(bmi_dict['underweight']))\n",
    "print(\"The difference between the obese range average and healthy range average is ${diff:.2f}.\".format(diff = diff))\n",
    "print(\"The difference between the obese range average and underweight range average is ${diff:.2f}.\".format(diff = diff2))\n",
    "print(\"Note: Patients should not be encouraged to force themselves into the underweight category to lower their insurance cost.\")\n",
    "print(\"The data suggests that average cost of insurance increases as BMI increases.\")    \n",
    "    \n",
    "    "
   ]
  },
  {
   "cell_type": "markdown",
   "metadata": {},
   "source": [
    "## Cost by Region"
   ]
  },
  {
   "cell_type": "code",
   "execution_count": 110,
   "metadata": {},
   "outputs": [
    {
     "name": "stdout",
     "output_type": "stream",
     "text": [
      "Patients in the northwest region pay an average of $12417.58 for health insurance.\n",
      "Patients in the northeast region pay an average of $13406.38 for health insurance.\n",
      "Patients in the southwest region pay an average of $12346.94 for health insurance.\n",
      "Patients in the southeast region pay an average of $14735.41 for health insurance.\n",
      "The difference in average cost between the most expensive and least expensive region is $2317.84.\n"
     ]
    }
   ],
   "source": [
    "region_dict = {}\n",
    "nwlist = []\n",
    "nelist = []\n",
    "swlist = []\n",
    "selist = []\n",
    "for i in dataset:\n",
    "    if i['region'] == 'northwest':\n",
    "        nwlist.append(float(i['charges']))\n",
    "    elif i['region'] == 'northeast':\n",
    "        nelist.append(float(i['charges']))\n",
    "    elif i['region'] == 'southwest':\n",
    "        swlist.append(float(i['charges']))\n",
    "    else:\n",
    "        selist.append(float(i['charges']))\n",
    "region_dict.update({'northwest': nwlist, 'northeast': nelist, 'southwest': swlist, 'southeast': selist})\n",
    "#region_dict is now a dictionary with region names as keys and lists of charges as values.\n",
    "for i in region_dict:\n",
    "    print(\"Patients in the {region} region pay an average of ${avg:.2f} for health insurance.\".format(region=i, avg=sum(region_dict[i])/len(region_dict[i])))\n",
    "cost = (sum(region_dict['southeast'])/len(region_dict['southeast'])-(sum(region_dict['northwest'])/len(region_dict['northwest'])))\n",
    "print(\"The difference in average cost between the most expensive and least expensive region is ${cost:.2f}.\".format(cost=cost))    "
   ]
  },
  {
   "cell_type": "markdown",
   "metadata": {},
   "source": [
    "## Averaging Analysis\n",
    "### Patients that smoke pay 23615.96 more on average than patients that don't smoke.\n",
    "This is by far the highest discrepancy in average insurance cost out of all of the factors in the data set. If a patient wanted to lower their insurance cost, the first thing they should do is stop smoking.\n",
    "\n",
    "### Men pay 1387.17 more than women, on average.\n",
    "This is the lowest discrepancy in average insurance cost. It's entirely possible that men and women are not charged differently for insurance and this is only due to variance in the other factors.\n",
    "\n",
    "### It is clear that the average cost of insurance increases as age increases.\n",
    "The difference between the oldest range's average and the youngest range's average is 12840.67. \n",
    "The biggest jump occurs between the 50-60 range and the 60-70 range, at about 5000. It appears the curve steepens as the patient gets older.\n",
    "\n",
    "### The data is unclear about any influence that number of children has on insurance costs.\n",
    "The first four demographics (No children, one child, two children, and three children) suggest an increasing trend, however the fifth demographic (four children) is lower than that of two or three children, and the sixth demographic (five children) is lower than all other demographics by a significant margin (about 4000 lower than the second lowest). One possible reason for this is that there is a significantly smaller sample size in the fifth and sixth demographics. This could lead to lower accuracy in the data. \n",
    "\n",
    "I would tentatively suggest that having more children results in higher insurance costs, but not with considerable confidence, at least from an average-analysis standpoint. Another form of analysis would likely provide better insight.\n",
    "\n",
    "### The difference between the obese range average and underweight range average is 6894.71. The data suggests that average cost of insurance increases as BMI increases.\n",
    "\n",
    "This is one metric that patients have at least some agency over (as opposed to something like age). Analysis has revealed that a vast majority of the sample population is in the obese range, and many of these patients are paying higher premiums than those in healthier categories. Patients in the obese category should consider working toward lowering their bmi if they want to lower their insurance costs. While those in the underweight category are paying less for insurance, it is not advisable to drop below a BMI in the 'healthy' range. "
   ]
  },
  {
   "cell_type": "markdown",
   "metadata": {},
   "source": [
    "# Comparative Analysis"
   ]
  },
  {
   "cell_type": "code",
   "execution_count": 141,
   "metadata": {},
   "outputs": [
    {
     "name": "stdout",
     "output_type": "stream",
     "text": [
      "These are the three patients with the highest charges.\n",
      "Most expensive: {'age': '54', 'sex': 'female', 'bmi': '47.41', 'children': '0', 'smoker': 'yes', 'region': 'southeast', 'charges': '63770.42801'}\n",
      "Second most expensive: {'age': '45', 'sex': 'male', 'bmi': '30.36', 'children': '0', 'smoker': 'yes', 'region': 'southeast', 'charges': '62592.87309'}\n",
      "Third most expensive: {'age': '52', 'sex': 'male', 'bmi': '34.485', 'children': '3', 'smoker': 'yes', 'region': 'northwest', 'charges': '60021.39897'}\n",
      "\n",
      "These are the three patients with the lowest charges.\n",
      "Cheapest: {'age': '18', 'sex': 'male', 'bmi': '23.21', 'children': '0', 'smoker': 'no', 'region': 'southeast', 'charges': '1121.8739'}\n",
      "Second cheapest: {'age': '18', 'sex': 'male', 'bmi': '30.14', 'children': '0', 'smoker': 'no', 'region': 'southeast', 'charges': '1131.5066'}\n",
      "Third cheapest: {'age': '18', 'sex': 'male', 'bmi': '33.33', 'children': '0', 'smoker': 'no', 'region': 'southeast', 'charges': '1135.9407'}\n"
     ]
    }
   ],
   "source": [
    "#Iterate through the dataset and print the three highest insurance costs and three lowest insurance costs\n",
    "dataset2 = dataset\n",
    "cheapest = {}\n",
    "secondcheapest = {}\n",
    "thirdcheapest = {}\n",
    "mostexpens = {}\n",
    "secondmostexpens = {}\n",
    "thirdmostexpens = {}\n",
    "highest = 0\n",
    "lowest = float('inf')\n",
    "for i in dataset2:\n",
    "    if float(i['charges']) >= highest:\n",
    "        highest = float(i['charges'])\n",
    "        mostexpens.update(i)\n",
    "highest = 0\n",
    "for i in dataset2:\n",
    "    if float(i['charges']) >= highest and float(i['charges']) < float(mostexpens['charges']):\n",
    "        highest = float(i['charges'])\n",
    "        secondmostexpens.update(i)\n",
    "highest = 0\n",
    "for i in dataset2:\n",
    "    if float(i['charges']) >= highest and float(i['charges']) < float(secondmostexpens['charges']):\n",
    "        highest = float(i['charges'])\n",
    "        thirdmostexpens.update(i)\n",
    "print(\"These are the three patients with the highest charges.\")\n",
    "print(\"Most expensive: {}\".format(mostexpens))\n",
    "print(\"Second most expensive: {}\".format(secondmostexpens))\n",
    "print(\"Third most expensive: {}\\n\".format(thirdmostexpens))\n",
    "\n",
    "for i in dataset2:\n",
    "    if float(i['charges']) <= lowest:\n",
    "        lowest = float(i['charges'])\n",
    "        cheapest.update(i)\n",
    "lowest = float('inf')\n",
    "for i in dataset2:\n",
    "    if float(i['charges']) <= lowest and float(i['charges']) > float(cheapest['charges']):\n",
    "        lowest = float(i['charges'])\n",
    "        secondcheapest.update(i)\n",
    "lowest = float('inf')\n",
    "for i in dataset2:\n",
    "    if float(i['charges']) <= lowest and float(i['charges']) > float(secondcheapest['charges']):\n",
    "        lowest = float(i['charges'])\n",
    "        thirdcheapest.update(i)\n",
    "print(\"These are the three patients with the lowest charges.\")\n",
    "print(\"Cheapest: {}\".format(cheapest))\n",
    "print(\"Second cheapest: {}\".format(secondcheapest))\n",
    "print(\"Third cheapest: {}\".format(thirdcheapest))\n",
    "    \n",
    "\n"
   ]
  },
  {
   "cell_type": "markdown",
   "metadata": {},
   "source": [
    "When observing the second and third most expensive patients, it's interesting to see that despite the second patient's lower age, lower BMI, and fewer children, he still pays considerably more than the third patient. This means that either having more children brings down the insurance price, different regions have different weights to each of these factors, or some combination of both.\n",
    "\n",
    "Notably, the three cheapest patients are all 18 year old nonsmoking men with 0 children from the southeast. The only difference is in BMI, so we can isolate that variable and analyze it for the southeast region.\n",
    "\n",
    "A BMI change of +6.93 results in a charge change of +9.63\n",
    "A BMI change of +3.19 results in a charge change of 4.44\n",
    "This indicates BMI influences charge as follows: charge ~ 1.39(bmi).\n",
    "\n",
    "It is possible that different regions follow different rules when it comes to how the factors influence insurance costs.\n",
    "\n"
   ]
  },
  {
   "cell_type": "markdown",
   "metadata": {},
   "source": [
    "# Footnote\n",
    "\n",
    "Dataset provided by https://www.kaggle.com/mirichoi0218/insurance"
   ]
  }
 ],
 "metadata": {
  "kernelspec": {
   "display_name": "Python 3",
   "language": "python",
   "name": "python3"
  },
  "language_info": {
   "codemirror_mode": {
    "name": "ipython",
    "version": 3
   },
   "file_extension": ".py",
   "mimetype": "text/x-python",
   "name": "python",
   "nbconvert_exporter": "python",
   "pygments_lexer": "ipython3",
   "version": "3.8.8"
  }
 },
 "nbformat": 4,
 "nbformat_minor": 4
}
